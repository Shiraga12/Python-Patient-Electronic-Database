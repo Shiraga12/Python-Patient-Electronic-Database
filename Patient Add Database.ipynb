{
 "cells": [
  {
   "cell_type": "code",
   "execution_count": 9,
   "id": "2b06d828-5ec8-4854-97c6-ee057e94f83e",
   "metadata": {},
   "outputs": [],
   "source": [
    "from patient import Patient as PD\n",
    "from patient import Billing as BD\n",
    "import pandas as pd\n",
    "PATIENT = []\n",
    "\n",
    "Continue = \"T\""
   ]
  },
  {
   "cell_type": "code",
   "execution_count": 10,
   "id": "d2c69692-13dd-4c9a-bc60-49dab26eb530",
   "metadata": {},
   "outputs": [
    {
     "name": "stdin",
     "output_type": "stream",
     "text": [
      "Enter patient's first name:  Toluwani\n",
      "Enter patient's last name:  Adeoti\n",
      "Enter patient's ID:  1\n",
      "Continue? T = yes, F = no  t\n",
      "Enter patient's first name:  Demilade\n",
      "Enter patient's last name:  Adeoti\n",
      "Enter patient's ID:  2\n",
      "Continue? T = yes, F = no  f\n"
     ]
    },
    {
     "name": "stdout",
     "output_type": "stream",
     "text": [
      "\n",
      "End\n"
     ]
    }
   ],
   "source": [
    "while Continue == \"T\" or Continue == \"t\":\n",
    "    Firstname = input(\"Enter patient's first name: \")\n",
    "    Lastname = input(\"Enter patient's last name: \")\n",
    "    ID = input(\"Enter patient's ID: \")\n",
    "    PATIENT.append(PD(Firstname,Lastname,ID))\n",
    "    Continue = input(\"Continue? T = yes, F = no \")\n",
    "    if Continue == \"F\" or Continue == \"f\":\n",
    "        print(\"\\nEnd\")\n",
    "        break;"
   ]
  },
  {
   "cell_type": "code",
   "execution_count": 11,
   "id": "f8b1d713-bf87-4d74-8291-561da7dae8a0",
   "metadata": {},
   "outputs": [
    {
     "data": {
      "text/html": [
       "<div>\n",
       "<style scoped>\n",
       "    .dataframe tbody tr th:only-of-type {\n",
       "        vertical-align: middle;\n",
       "    }\n",
       "\n",
       "    .dataframe tbody tr th {\n",
       "        vertical-align: top;\n",
       "    }\n",
       "\n",
       "    .dataframe thead th {\n",
       "        text-align: right;\n",
       "    }\n",
       "</style>\n",
       "<table border=\"1\" class=\"dataframe\">\n",
       "  <thead>\n",
       "    <tr style=\"text-align: right;\">\n",
       "      <th></th>\n",
       "      <th>First Name</th>\n",
       "      <th>Last Name</th>\n",
       "      <th>ID</th>\n",
       "    </tr>\n",
       "  </thead>\n",
       "  <tbody>\n",
       "    <tr>\n",
       "      <th>1</th>\n",
       "      <td>Toluwani</td>\n",
       "      <td>Adeoti</td>\n",
       "      <td>1</td>\n",
       "    </tr>\n",
       "    <tr>\n",
       "      <th>2</th>\n",
       "      <td>Demilade</td>\n",
       "      <td>Adeoti</td>\n",
       "      <td>2</td>\n",
       "    </tr>\n",
       "  </tbody>\n",
       "</table>\n",
       "</div>"
      ],
      "text/plain": [
       "  First Name Last Name ID\n",
       "1   Toluwani    Adeoti  1\n",
       "2   Demilade    Adeoti  2"
      ]
     },
     "execution_count": 11,
     "metadata": {},
     "output_type": "execute_result"
    }
   ],
   "source": [
    "PATIENT_DF = pd.DataFrame(columns=[\"First Name\",\"Last Name\", \"ID\"])\n",
    "for i in range(len(PATIENT)):\n",
    "    PATIENT_DF.loc[i+1,\"First Name\"] = PATIENT[i].getFirstName()\n",
    "    PATIENT_DF.loc[i+1,\"Last Name\"] = PATIENT[i].getLastName()\n",
    "    PATIENT_DF.loc[i+1,\"ID\"] = PATIENT[i].getID()\n",
    "PATIENT_DF"
   ]
  },
  {
   "cell_type": "code",
   "execution_count": null,
   "id": "cc83c7d9-b016-4286-b582-b05ea1f0e6c8",
   "metadata": {},
   "outputs": [],
   "source": []
  }
 ],
 "metadata": {
  "kernelspec": {
   "display_name": "Python 3 (ipykernel)",
   "language": "python",
   "name": "python3"
  },
  "language_info": {
   "codemirror_mode": {
    "name": "ipython",
    "version": 3
   },
   "file_extension": ".py",
   "mimetype": "text/x-python",
   "name": "python",
   "nbconvert_exporter": "python",
   "pygments_lexer": "ipython3",
   "version": "3.11.3"
  }
 },
 "nbformat": 4,
 "nbformat_minor": 5
}
